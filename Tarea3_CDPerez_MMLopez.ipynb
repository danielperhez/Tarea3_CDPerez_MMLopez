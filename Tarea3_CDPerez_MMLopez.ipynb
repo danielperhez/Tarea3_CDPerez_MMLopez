{
 "cells": [
  {
   "cell_type": "markdown",
   "metadata": {},
   "source": [
    "<img style=\"float: left; margin: 30px 15px 15px 15px;\" src=\"https://pngimage.net/wp-content/uploads/2018/06/logo-iteso-png-5.png\" width=\"300\" height=\"500\" /> \n",
    "    \n",
    "    \n",
    "### <font color='navy'> Simulación de procesos financieros. \n",
    "\n",
    "**Nombres:** Carlos Daniel Pérez Hernández y Martha Mariela López Molina\n",
    "\n",
    "**Fecha:** 17 de febrero del 2021.\n",
    "\n",
    "**Expediente** : if722627 y if721862\n",
    "**Profesor:** Oscar David Jaramillo Zuluaga.\n",
    "\n",
    "# Tarea 3"
   ]
  },
  {
   "cell_type": "markdown",
   "metadata": {},
   "source": [
    "## Optimización Programación\n",
    "> Utilizar lo visto en la **Clase6_NumerosPseudoaleatorios** para seguir practicando compresión de listas y funciones map"
   ]
  },
  {
   "cell_type": "markdown",
   "metadata": {},
   "source": [
    "### Ejercicio 1: \n",
    "Resolver la siguiente ecuación recursiva usando funciones como se vió en clase\n",
    "$$ D_{n}=(n-1) D_{n-1}+(n-1) D_{n-2} \\quad n\\ge 3$$\n",
    "con $D_1=0$ y $D_2 = 1$"
   ]
  },
  {
   "cell_type": "markdown",
   "metadata": {},
   "source": [
    "#### Solución ``Carlos Daniel Pérez Hernández``"
   ]
  },
  {
   "cell_type": "code",
   "execution_count": 1,
   "metadata": {},
   "outputs": [],
   "source": [
    "import numpy as np"
   ]
  },
  {
   "cell_type": "code",
   "execution_count": 2,
   "metadata": {},
   "outputs": [],
   "source": [
    "def ecu_rec(n, D1, D2):\n",
    "    Dn = (n - 1) * D2 + (n - 1) * D1\n",
    "    return Dn"
   ]
  },
  {
   "cell_type": "code",
   "execution_count": 3,
   "metadata": {},
   "outputs": [
    {
     "data": {
      "text/plain": [
       "2"
      ]
     },
     "execution_count": 3,
     "metadata": {},
     "output_type": "execute_result"
    }
   ],
   "source": [
    "x = ecu_rec(3, 0, 1)\n",
    "x"
   ]
  },
  {
   "cell_type": "markdown",
   "metadata": {},
   "source": [
    "#### Solución ``Martha Mariela López Molina``"
   ]
  },
  {
   "cell_type": "code",
   "execution_count": 68,
   "metadata": {},
   "outputs": [],
   "source": [
    "def ecuacion(n, D1, D2):\n",
    "    D_n = (n-1)*D2 + (n-1)*D1\n",
    "    return D_n"
   ]
  },
  {
   "cell_type": "code",
   "execution_count": 70,
   "metadata": {},
   "outputs": [
    {
     "data": {
      "text/plain": [
       "2"
      ]
     },
     "execution_count": 70,
     "metadata": {},
     "output_type": "execute_result"
    }
   ],
   "source": [
    "sol = ecuacion(3, 0, 1)\n",
    "sol"
   ]
  },
  {
   "cell_type": "markdown",
   "metadata": {},
   "source": [
    "### Ejercicio 2: \n",
    "Count the number of spaces in the following string `variable =  relaciónn  requiere,  para obtener  el  valor  de un  cierto  término,  el conocimiento de los dos anteriores`."
   ]
  },
  {
   "cell_type": "markdown",
   "metadata": {},
   "source": [
    "#### Solución ``Carlos Daniel Pérez Hernández``"
   ]
  },
  {
   "cell_type": "code",
   "execution_count": 4,
   "metadata": {},
   "outputs": [],
   "source": [
    "variable =  \"relación  requiere,  para obtener  el  valor  de un  cierto  término,  el conocimiento de los dos anteriores\""
   ]
  },
  {
   "cell_type": "code",
   "execution_count": 5,
   "metadata": {},
   "outputs": [],
   "source": [
    "espacio = [e for e in variable if e == \" \"]"
   ]
  },
  {
   "cell_type": "code",
   "execution_count": 6,
   "metadata": {},
   "outputs": [
    {
     "name": "stdout",
     "output_type": "stream",
     "text": [
      "23\n"
     ]
    }
   ],
   "source": [
    "print(len(espacio))"
   ]
  },
  {
   "cell_type": "markdown",
   "metadata": {},
   "source": [
    "#### Solución ``Martha Mariela López Molina``"
   ]
  },
  {
   "cell_type": "code",
   "execution_count": 9,
   "metadata": {},
   "outputs": [],
   "source": [
    "variable =  'relación  requiere,  para obtener  el  valor  de un  cierto  término,  el conocimiento de los dos anteriores'"
   ]
  },
  {
   "cell_type": "code",
   "execution_count": 14,
   "metadata": {},
   "outputs": [
    {
     "data": {
      "text/plain": [
       "23"
      ]
     },
     "execution_count": 14,
     "metadata": {},
     "output_type": "execute_result"
    }
   ],
   "source": [
    "spaces = [x for x in variable if x == ' ']\n",
    "len(spaces)"
   ]
  },
  {
   "cell_type": "markdown",
   "metadata": {},
   "source": [
    "### Ejercicio 3: \n",
    "Remove all of the vowels in a string [make a list of the non-vowels]."
   ]
  },
  {
   "cell_type": "markdown",
   "metadata": {},
   "source": [
    "#### Solución ``Carlos Daniel Pérez Hernández``"
   ]
  },
  {
   "cell_type": "code",
   "execution_count": 7,
   "metadata": {},
   "outputs": [],
   "source": [
    "def RemoveVowels(string):\n",
    "    vowels = 'aeiou'\n",
    "    return \"\".join([i for i in string if i not in vowels])"
   ]
  },
  {
   "cell_type": "code",
   "execution_count": 8,
   "metadata": {},
   "outputs": [
    {
     "data": {
      "text/plain": [
       "'rlcón  rqr,  pr btnr  l  vlr  d n  crt  térmn,  l cncmnt d ls ds ntrrs'"
      ]
     },
     "execution_count": 8,
     "metadata": {},
     "output_type": "execute_result"
    }
   ],
   "source": [
    "string = \"relación  requiere,  para obtener  el  valor  de un  cierto  término,  el conocimiento de los dos anteriores\"\n",
    "\n",
    "RemoveVowels(string)"
   ]
  },
  {
   "cell_type": "markdown",
   "metadata": {},
   "source": [
    "#### Solución ``Martha Mariela López Molina``"
   ]
  },
  {
   "cell_type": "code",
   "execution_count": 48,
   "metadata": {},
   "outputs": [],
   "source": [
    "def remove_vowels(variable):\n",
    "    vowels = 'aeiouáéíóú'\n",
    "    e = \"\"\n",
    "    return e.join([x for x in variable if x not in vowels])\n"
   ]
  },
  {
   "cell_type": "code",
   "execution_count": 50,
   "metadata": {},
   "outputs": [
    {
     "data": {
      "text/plain": [
       "'rlcn  rqr,  pr btnr  l  vlr  d n  crt  trmn,  l cncmnt d ls ds ntrrs'"
      ]
     },
     "execution_count": 50,
     "metadata": {},
     "output_type": "execute_result"
    }
   ],
   "source": [
    "variable =  'relación  requiere,  para obtener  el  valor  de un  cierto  término,  el conocimiento de los dos anteriores'\n",
    "\n",
    "newstring = remove_vowels(variable)\n",
    "newstring"
   ]
  },
  {
   "cell_type": "markdown",
   "metadata": {},
   "source": [
    "### Ejercicio 4: \n",
    "Find all of the words in a string that are less than 4 letters."
   ]
  },
  {
   "cell_type": "markdown",
   "metadata": {},
   "source": [
    "#### Solución ``Carlos Daniel Pérez Hernández``"
   ]
  },
  {
   "cell_type": "code",
   "execution_count": 9,
   "metadata": {},
   "outputs": [],
   "source": [
    "string = \"relación  requiere,  para obtener  el  valor  de un  cierto  término,  el conocimiento de los dos anteriores\""
   ]
  },
  {
   "cell_type": "code",
   "execution_count": 10,
   "metadata": {},
   "outputs": [
    {
     "data": {
      "text/plain": [
       "['el', 'de', 'un', 'el', 'de', 'los', 'dos']"
      ]
     },
     "execution_count": 10,
     "metadata": {},
     "output_type": "execute_result"
    }
   ],
   "source": [
    "lessthanfour = [word for word in string.split() if len(word) < 4]\n",
    "lessthanfour"
   ]
  },
  {
   "cell_type": "markdown",
   "metadata": {},
   "source": [
    "#### Solución ``Martha Mariela López Molina``"
   ]
  },
  {
   "cell_type": "code",
   "execution_count": 53,
   "metadata": {},
   "outputs": [],
   "source": [
    "variable =  'relación  requiere,  para obtener  el  valor  de un  cierto  término,  el conocimiento de los dos anteriores'"
   ]
  },
  {
   "cell_type": "code",
   "execution_count": 64,
   "metadata": {},
   "outputs": [
    {
     "data": {
      "text/plain": [
       "['el', 'de', 'un', 'el', 'de', 'los', 'dos']"
      ]
     },
     "execution_count": 64,
     "metadata": {},
     "output_type": "execute_result"
    }
   ],
   "source": [
    "list(filter(lambda word: len(word) < 4 , variable.split()))"
   ]
  },
  {
   "cell_type": "markdown",
   "metadata": {},
   "source": [
    "### Ejercicio 5: \n",
    "Use a dictionary comprehension to count the length of each word in a sentence."
   ]
  },
  {
   "cell_type": "markdown",
   "metadata": {},
   "source": [
    "#### Solución ``Carlos Daniel Pérez Hernández``"
   ]
  },
  {
   "cell_type": "code",
   "execution_count": 11,
   "metadata": {},
   "outputs": [],
   "source": [
    "string = \"relación  requiere,  para obtener  el  valor  de un  cierto  término,  el conocimiento de los dos anteriores\""
   ]
  },
  {
   "cell_type": "code",
   "execution_count": 12,
   "metadata": {},
   "outputs": [
    {
     "data": {
      "text/plain": [
       "[8, 9, 4, 7, 2, 5, 2, 2, 6, 8, 2, 12, 2, 3, 3, 10]"
      ]
     },
     "execution_count": 12,
     "metadata": {},
     "output_type": "execute_result"
    }
   ],
   "source": [
    "list(map(len, string.split()))"
   ]
  },
  {
   "cell_type": "markdown",
   "metadata": {},
   "source": [
    "#### Solución ``Martha Mariela López Molina``"
   ]
  },
  {
   "cell_type": "code",
   "execution_count": 54,
   "metadata": {},
   "outputs": [],
   "source": [
    "variable =  'relación  requiere,  para obtener  el  valor  de un  cierto  término,  el conocimiento de los dos anteriores'"
   ]
  },
  {
   "cell_type": "code",
   "execution_count": 61,
   "metadata": {},
   "outputs": [
    {
     "data": {
      "text/plain": [
       "[8, 9, 4, 7, 2, 5, 2, 2, 6, 8, 2, 12, 2, 3, 3, 10]"
      ]
     },
     "execution_count": 61,
     "metadata": {},
     "output_type": "execute_result"
    }
   ],
   "source": [
    "list(map(len, variable.split()))"
   ]
  },
  {
   "cell_type": "markdown",
   "metadata": {},
   "source": [
    "### Ejercicio 6: \n",
    "Use a nested list comprehension to find all of the numbers from 1-1000 that are divisible by any single digit besides 1 (2-9). "
   ]
  },
  {
   "cell_type": "markdown",
   "metadata": {},
   "source": [
    "#### Solución ``Carlos Daniel Pérez Hernández``"
   ]
  },
  {
   "cell_type": "code",
   "execution_count": 13,
   "metadata": {
    "scrolled": true
   },
   "outputs": [
    {
     "data": {
      "text/plain": [
       "array([   2,    3,    4,    5,    6,    7,    8,    9,   10,   12,   14,\n",
       "         15,   16,   18,   20,   21,   22,   24,   25,   26,   27,   28,\n",
       "         30,   32,   33,   34,   35,   36,   38,   39,   40,   42,   44,\n",
       "         45,   46,   48,   49,   50,   51,   52,   54,   55,   56,   57,\n",
       "         58,   60,   62,   63,   64,   65,   66,   68,   69,   70,   72,\n",
       "         74,   75,   76,   77,   78,   80,   81,   82,   84,   85,   86,\n",
       "         87,   88,   90,   91,   92,   93,   94,   95,   96,   98,   99,\n",
       "        100,  102,  104,  105,  106,  108,  110,  111,  112,  114,  115,\n",
       "        116,  117,  118,  119,  120,  122,  123,  124,  125,  126,  128,\n",
       "        129,  130,  132,  133,  134,  135,  136,  138,  140,  141,  142,\n",
       "        144,  145,  146,  147,  148,  150,  152,  153,  154,  155,  156,\n",
       "        158,  159,  160,  161,  162,  164,  165,  166,  168,  170,  171,\n",
       "        172,  174,  175,  176,  177,  178,  180,  182,  183,  184,  185,\n",
       "        186,  188,  189,  190,  192,  194,  195,  196,  198,  200,  201,\n",
       "        202,  203,  204,  205,  206,  207,  208,  210,  212,  213,  214,\n",
       "        215,  216,  217,  218,  219,  220,  222,  224,  225,  226,  228,\n",
       "        230,  231,  232,  234,  235,  236,  237,  238,  240,  242,  243,\n",
       "        244,  245,  246,  248,  249,  250,  252,  254,  255,  256,  258,\n",
       "        259,  260,  261,  262,  264,  265,  266,  267,  268,  270,  272,\n",
       "        273,  274,  275,  276,  278,  279,  280,  282,  284,  285,  286,\n",
       "        287,  288,  290,  291,  292,  294,  295,  296,  297,  298,  300,\n",
       "        301,  302,  303,  304,  305,  306,  308,  309,  310,  312,  314,\n",
       "        315,  316,  318,  320,  321,  322,  324,  325,  326,  327,  328,\n",
       "        329,  330,  332,  333,  334,  335,  336,  338,  339,  340,  342,\n",
       "        343,  344,  345,  346,  348,  350,  351,  352,  354,  355,  356,\n",
       "        357,  358,  360,  362,  363,  364,  365,  366,  368,  369,  370,\n",
       "        371,  372,  374,  375,  376,  378,  380,  381,  382,  384,  385,\n",
       "        386,  387,  388,  390,  392,  393,  394,  395,  396,  398,  399,\n",
       "        400,  402,  404,  405,  406,  408,  410,  411,  412,  413,  414,\n",
       "        415,  416,  417,  418,  420,  422,  423,  424,  425,  426,  427,\n",
       "        428,  429,  430,  432,  434,  435,  436,  438,  440,  441,  442,\n",
       "        444,  445,  446,  447,  448,  450,  452,  453,  454,  455,  456,\n",
       "        458,  459,  460,  462,  464,  465,  466,  468,  469,  470,  471,\n",
       "        472,  474,  475,  476,  477,  478,  480,  482,  483,  484,  485,\n",
       "        486,  488,  489,  490,  492,  494,  495,  496,  497,  498,  500,\n",
       "        501,  502,  504,  505,  506,  507,  508,  510,  511,  512,  513,\n",
       "        514,  515,  516,  518,  519,  520,  522,  524,  525,  526,  528,\n",
       "        530,  531,  532,  534,  535,  536,  537,  538,  539,  540,  542,\n",
       "        543,  544,  545,  546,  548,  549,  550,  552,  553,  554,  555,\n",
       "        556,  558,  560,  561,  562,  564,  565,  566,  567,  568,  570,\n",
       "        572,  573,  574,  575,  576,  578,  579,  580,  581,  582,  584,\n",
       "        585,  586,  588,  590,  591,  592,  594,  595,  596,  597,  598,\n",
       "        600,  602,  603,  604,  605,  606,  608,  609,  610,  612,  614,\n",
       "        615,  616,  618,  620,  621,  622,  623,  624,  625,  626,  627,\n",
       "        628,  630,  632,  633,  634,  635,  636,  637,  638,  639,  640,\n",
       "        642,  644,  645,  646,  648,  650,  651,  652,  654,  655,  656,\n",
       "        657,  658,  660,  662,  663,  664,  665,  666,  668,  669,  670,\n",
       "        672,  674,  675,  676,  678,  679,  680,  681,  682,  684,  685,\n",
       "        686,  687,  688,  690,  692,  693,  694,  695,  696,  698,  699,\n",
       "        700,  702,  704,  705,  706,  707,  708,  710,  711,  712,  714,\n",
       "        715,  716,  717,  718,  720,  721,  722,  723,  724,  725,  726,\n",
       "        728,  729,  730,  732,  734,  735,  736,  738,  740,  741,  742,\n",
       "        744,  745,  746,  747,  748,  749,  750,  752,  753,  754,  755,\n",
       "        756,  758,  759,  760,  762,  763,  764,  765,  766,  768,  770,\n",
       "        771,  772,  774,  775,  776,  777,  778,  780,  782,  783,  784,\n",
       "        785,  786,  788,  789,  790,  791,  792,  794,  795,  796,  798,\n",
       "        800,  801,  802,  804,  805,  806,  807,  808,  810,  812,  813,\n",
       "        814,  815,  816,  818,  819,  820,  822,  824,  825,  826,  828,\n",
       "        830,  831,  832,  833,  834,  835,  836,  837,  838,  840,  842,\n",
       "        843,  844,  845,  846,  847,  848,  849,  850,  852,  854,  855,\n",
       "        856,  858,  860,  861,  862,  864,  865,  866,  867,  868,  870,\n",
       "        872,  873,  874,  875,  876,  878,  879,  880,  882,  884,  885,\n",
       "        886,  888,  889,  890,  891,  892,  894,  895,  896,  897,  898,\n",
       "        900,  902,  903,  904,  905,  906,  908,  909,  910,  912,  914,\n",
       "        915,  916,  917,  918,  920,  921,  922,  924,  925,  926,  927,\n",
       "        928,  930,  931,  932,  933,  934,  935,  936,  938,  939,  940,\n",
       "        942,  944,  945,  946,  948,  950,  951,  952,  954,  955,  956,\n",
       "        957,  958,  959,  960,  962,  963,  964,  965,  966,  968,  969,\n",
       "        970,  972,  973,  974,  975,  976,  978,  980,  981,  982,  984,\n",
       "        985,  986,  987,  988,  990,  992,  993,  994,  995,  996,  998,\n",
       "        999, 1000])"
      ]
     },
     "execution_count": 13,
     "metadata": {},
     "output_type": "execute_result"
    }
   ],
   "source": [
    "numbers = np.array([number for number in range(1,1001) if True in [True for divisor in range(2,10) if number % divisor == 0]])\n",
    "numbers"
   ]
  },
  {
   "cell_type": "markdown",
   "metadata": {},
   "source": [
    "#### Solución ``Martha Mariela López Molina``"
   ]
  },
  {
   "cell_type": "code",
   "execution_count": 52,
   "metadata": {},
   "outputs": [
    {
     "data": {
      "text/plain": [
       "array([   2,    3,    4,    5,    6,    7,    8,    9,   10,   12,   14,\n",
       "         15,   16,   18,   20,   21,   22,   24,   25,   26,   27,   28,\n",
       "         30,   32,   33,   34,   35,   36,   38,   39,   40,   42,   44,\n",
       "         45,   46,   48,   49,   50,   51,   52,   54,   55,   56,   57,\n",
       "         58,   60,   62,   63,   64,   65,   66,   68,   69,   70,   72,\n",
       "         74,   75,   76,   77,   78,   80,   81,   82,   84,   85,   86,\n",
       "         87,   88,   90,   91,   92,   93,   94,   95,   96,   98,   99,\n",
       "        100,  102,  104,  105,  106,  108,  110,  111,  112,  114,  115,\n",
       "        116,  117,  118,  119,  120,  122,  123,  124,  125,  126,  128,\n",
       "        129,  130,  132,  133,  134,  135,  136,  138,  140,  141,  142,\n",
       "        144,  145,  146,  147,  148,  150,  152,  153,  154,  155,  156,\n",
       "        158,  159,  160,  161,  162,  164,  165,  166,  168,  170,  171,\n",
       "        172,  174,  175,  176,  177,  178,  180,  182,  183,  184,  185,\n",
       "        186,  188,  189,  190,  192,  194,  195,  196,  198,  200,  201,\n",
       "        202,  203,  204,  205,  206,  207,  208,  210,  212,  213,  214,\n",
       "        215,  216,  217,  218,  219,  220,  222,  224,  225,  226,  228,\n",
       "        230,  231,  232,  234,  235,  236,  237,  238,  240,  242,  243,\n",
       "        244,  245,  246,  248,  249,  250,  252,  254,  255,  256,  258,\n",
       "        259,  260,  261,  262,  264,  265,  266,  267,  268,  270,  272,\n",
       "        273,  274,  275,  276,  278,  279,  280,  282,  284,  285,  286,\n",
       "        287,  288,  290,  291,  292,  294,  295,  296,  297,  298,  300,\n",
       "        301,  302,  303,  304,  305,  306,  308,  309,  310,  312,  314,\n",
       "        315,  316,  318,  320,  321,  322,  324,  325,  326,  327,  328,\n",
       "        329,  330,  332,  333,  334,  335,  336,  338,  339,  340,  342,\n",
       "        343,  344,  345,  346,  348,  350,  351,  352,  354,  355,  356,\n",
       "        357,  358,  360,  362,  363,  364,  365,  366,  368,  369,  370,\n",
       "        371,  372,  374,  375,  376,  378,  380,  381,  382,  384,  385,\n",
       "        386,  387,  388,  390,  392,  393,  394,  395,  396,  398,  399,\n",
       "        400,  402,  404,  405,  406,  408,  410,  411,  412,  413,  414,\n",
       "        415,  416,  417,  418,  420,  422,  423,  424,  425,  426,  427,\n",
       "        428,  429,  430,  432,  434,  435,  436,  438,  440,  441,  442,\n",
       "        444,  445,  446,  447,  448,  450,  452,  453,  454,  455,  456,\n",
       "        458,  459,  460,  462,  464,  465,  466,  468,  469,  470,  471,\n",
       "        472,  474,  475,  476,  477,  478,  480,  482,  483,  484,  485,\n",
       "        486,  488,  489,  490,  492,  494,  495,  496,  497,  498,  500,\n",
       "        501,  502,  504,  505,  506,  507,  508,  510,  511,  512,  513,\n",
       "        514,  515,  516,  518,  519,  520,  522,  524,  525,  526,  528,\n",
       "        530,  531,  532,  534,  535,  536,  537,  538,  539,  540,  542,\n",
       "        543,  544,  545,  546,  548,  549,  550,  552,  553,  554,  555,\n",
       "        556,  558,  560,  561,  562,  564,  565,  566,  567,  568,  570,\n",
       "        572,  573,  574,  575,  576,  578,  579,  580,  581,  582,  584,\n",
       "        585,  586,  588,  590,  591,  592,  594,  595,  596,  597,  598,\n",
       "        600,  602,  603,  604,  605,  606,  608,  609,  610,  612,  614,\n",
       "        615,  616,  618,  620,  621,  622,  623,  624,  625,  626,  627,\n",
       "        628,  630,  632,  633,  634,  635,  636,  637,  638,  639,  640,\n",
       "        642,  644,  645,  646,  648,  650,  651,  652,  654,  655,  656,\n",
       "        657,  658,  660,  662,  663,  664,  665,  666,  668,  669,  670,\n",
       "        672,  674,  675,  676,  678,  679,  680,  681,  682,  684,  685,\n",
       "        686,  687,  688,  690,  692,  693,  694,  695,  696,  698,  699,\n",
       "        700,  702,  704,  705,  706,  707,  708,  710,  711,  712,  714,\n",
       "        715,  716,  717,  718,  720,  721,  722,  723,  724,  725,  726,\n",
       "        728,  729,  730,  732,  734,  735,  736,  738,  740,  741,  742,\n",
       "        744,  745,  746,  747,  748,  749,  750,  752,  753,  754,  755,\n",
       "        756,  758,  759,  760,  762,  763,  764,  765,  766,  768,  770,\n",
       "        771,  772,  774,  775,  776,  777,  778,  780,  782,  783,  784,\n",
       "        785,  786,  788,  789,  790,  791,  792,  794,  795,  796,  798,\n",
       "        800,  801,  802,  804,  805,  806,  807,  808,  810,  812,  813,\n",
       "        814,  815,  816,  818,  819,  820,  822,  824,  825,  826,  828,\n",
       "        830,  831,  832,  833,  834,  835,  836,  837,  838,  840,  842,\n",
       "        843,  844,  845,  846,  847,  848,  849,  850,  852,  854,  855,\n",
       "        856,  858,  860,  861,  862,  864,  865,  866,  867,  868,  870,\n",
       "        872,  873,  874,  875,  876,  878,  879,  880,  882,  884,  885,\n",
       "        886,  888,  889,  890,  891,  892,  894,  895,  896,  897,  898,\n",
       "        900,  902,  903,  904,  905,  906,  908,  909,  910,  912,  914,\n",
       "        915,  916,  917,  918,  920,  921,  922,  924,  925,  926,  927,\n",
       "        928,  930,  931,  932,  933,  934,  935,  936,  938,  939,  940,\n",
       "        942,  944,  945,  946,  948,  950,  951,  952,  954,  955,  956,\n",
       "        957,  958,  959,  960,  962,  963,  964,  965,  966,  968,  969,\n",
       "        970,  972,  973,  974,  975,  976,  978,  980,  981,  982,  984,\n",
       "        985,  986,  987,  988,  990,  992,  993,  994,  995,  996,  998,\n",
       "        999, 1000])"
      ]
     },
     "execution_count": 52,
     "metadata": {},
     "output_type": "execute_result"
    }
   ],
   "source": [
    "results = np.array([number for number in range(1,1001) if True in [True for divisor in range(2,10) if number % divisor == 0]])\n",
    "results"
   ]
  },
  {
   "cell_type": "markdown",
   "metadata": {},
   "source": [
    "### LINK REPOSITORIO\n",
    "[Link repositorio Github](https://github.com/danielperhez/Tarea3_CDPerez_MMLopez)"
   ]
  }
 ],
 "metadata": {
  "kernelspec": {
   "display_name": "Python 3",
   "language": "python",
   "name": "python3"
  },
  "language_info": {
   "codemirror_mode": {
    "name": "ipython",
    "version": 3
   },
   "file_extension": ".py",
   "mimetype": "text/x-python",
   "name": "python",
   "nbconvert_exporter": "python",
   "pygments_lexer": "ipython3",
   "version": "3.8.3"
  }
 },
 "nbformat": 4,
 "nbformat_minor": 4
}
